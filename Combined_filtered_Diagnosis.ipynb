{
 "cells": [
  {
   "cell_type": "code",
   "execution_count": 4,
   "metadata": {},
   "outputs": [],
   "source": [
    "import pandas as pd\n",
    "import numpy as np\n",
    "from tqdm import *\n",
    "import re\n"
   ]
  },
  {
   "cell_type": "code",
   "execution_count": 5,
   "metadata": {},
   "outputs": [],
   "source": [
    "def return_nan(tup):\n",
    "    return([None] if len(tup[0]) == 0 else tup[0])\n",
    "\n",
    "def get_indexes_match(l1, l2):\n",
    "\n",
    "    return([return_nan(np.where([x in e for x in l2])) for e in l1])\n",
    "\n",
    "def merge(df1, df2, left_on, right_on):\n",
    "    df1.loc[:, 'idx'] = get_indexes_match(df1[left_on].values,\n",
    "                                          df2[right_on].values)\n",
    "    \n",
    "def clean_keywords(keyword):\n",
    "    return re.sub('[^.,a-zA-Z0-9 \\n\\.]', '', str(keyword))"
   ]
  },
  {
   "cell_type": "code",
   "execution_count": 12,
   "metadata": {
    "scrolled": true
   },
   "outputs": [
    {
     "name": "stdout",
     "output_type": "stream",
     "text": [
      "Working on year 1999 file\n",
      "The size of 1999 file is  (5849, 8)\n"
     ]
    },
    {
     "name": "stderr",
     "output_type": "stream",
     "text": [
      "/Users/kamakshibansal/opt/anaconda3/lib/python3.7/site-packages/ipykernel_launcher.py:23: SettingWithCopyWarning: \n",
      "A value is trying to be set on a copy of a slice from a DataFrame.\n",
      "Try using .loc[row_indexer,col_indexer] = value instead\n",
      "\n",
      "See the caveats in the documentation: http://pandas.pydata.org/pandas-docs/stable/user_guide/indexing.html#returning-a-view-versus-a-copy\n"
     ]
    },
    {
     "name": "stdout",
     "output_type": "stream",
     "text": [
      "The size of 1999 file filtering with top 11 diagnosis is  (1279, 10)\n",
      "The size of 1999 file with one diagnosis as lablel is  (1137, 10)\n",
      "Working on year 2000 file\n",
      "The size of 2000 file is  (25110, 8)\n",
      "The size of 2000 file filtering with top 11 diagnosis is  (6066, 10)\n",
      "The size of 2000 file with one diagnosis as lablel is  (5543, 10)\n",
      "Working on year 2001 file\n",
      "The size of 2001 file is  (25746, 8)\n",
      "The size of 2001 file filtering with top 11 diagnosis is  (7874, 10)\n",
      "The size of 2001 file with one diagnosis as lablel is  (7186, 10)\n",
      "Working on year 2002 file\n",
      "The size of 2002 file is  (39705, 8)\n",
      "The size of 2002 file filtering with top 11 diagnosis is  (12400, 10)\n",
      "The size of 2002 file with one diagnosis as lablel is  (11193, 10)\n",
      "Working on year 2003 file\n",
      "The size of 2003 file is  (81573, 8)\n",
      "The size of 2003 file filtering with top 11 diagnosis is  (30601, 10)\n",
      "The size of 2003 file with one diagnosis as lablel is  (27451, 10)\n",
      "Working on year 2004 file\n",
      "The size of 2004 file is  (113389, 8)\n",
      "The size of 2004 file filtering with top 11 diagnosis is  (45282, 10)\n",
      "The size of 2004 file with one diagnosis as lablel is  (40070, 10)\n",
      "Working on year 2005 file\n",
      "The size of 2005 file is  (135857, 8)\n",
      "The size of 2005 file filtering with top 11 diagnosis is  (54617, 10)\n",
      "The size of 2005 file with one diagnosis as lablel is  (47728, 10)\n",
      "Working on year 2006 file\n",
      "The size of 2006 file is  (154695, 8)\n",
      "The size of 2006 file filtering with top 11 diagnosis is  (60752, 10)\n",
      "The size of 2006 file with one diagnosis as lablel is  (52782, 10)\n",
      "Working on year 2007 file\n",
      "The size of 2007 file is  (160990, 8)\n",
      "The size of 2007 file filtering with top 11 diagnosis is  (64441, 10)\n",
      "The size of 2007 file with one diagnosis as lablel is  (55822, 10)\n",
      "Working on year 2008 file\n",
      "The size of 2008 file is  (171223, 8)\n",
      "The size of 2008 file filtering with top 11 diagnosis is  (69144, 10)\n",
      "The size of 2008 file with one diagnosis as lablel is  (59376, 10)\n",
      "Working on year 2009 file\n",
      "The size of 2009 file is  (178393, 8)\n",
      "The size of 2009 file filtering with top 11 diagnosis is  (67438, 10)\n",
      "The size of 2009 file with one diagnosis as lablel is  (57427, 10)\n",
      "Working on year 2010 file\n",
      "The size of 2010 file is  (191664, 8)\n",
      "The size of 2010 file filtering with top 11 diagnosis is  (71946, 10)\n",
      "The size of 2010 file with one diagnosis as lablel is  (61468, 10)\n",
      "Working on year 2011 file\n",
      "The size of 2011 file is  (204442, 8)\n",
      "The size of 2011 file filtering with top 11 diagnosis is  (78197, 10)\n",
      "The size of 2011 file with one diagnosis as lablel is  (66863, 10)\n",
      "Working on year 2012 file\n",
      "The size of 2012 file is  (203602, 8)\n",
      "The size of 2012 file filtering with top 11 diagnosis is  (77442, 10)\n",
      "The size of 2012 file with one diagnosis as lablel is  (66433, 10)\n",
      "Working on year 2013 file\n",
      "The size of 2013 file is  (197817, 8)\n",
      "The size of 2013 file filtering with top 11 diagnosis is  (81654, 10)\n",
      "The size of 2013 file with one diagnosis as lablel is  (70669, 10)\n",
      "Working on year 2014 file\n",
      "The size of 2014 file is  (251570, 8)\n",
      "The size of 2014 file filtering with top 11 diagnosis is  (93704, 10)\n",
      "The size of 2014 file with one diagnosis as lablel is  (81138, 10)\n",
      "Working on year 2015 file\n",
      "The size of 2015 file is  (281393, 8)\n",
      "The size of 2015 file filtering with top 11 diagnosis is  (108980, 10)\n",
      "The size of 2015 file with one diagnosis as lablel is  (94125, 10)\n",
      "Working on year 2016 file\n",
      "The size of 2016 file is  (315449, 8)\n",
      "The size of 2016 file filtering with top 11 diagnosis is  (127110, 10)\n",
      "The size of 2016 file with one diagnosis as lablel is  (109094, 10)\n",
      "Working on year 2017 file\n",
      "The size of 2017 file is  (335447, 8)\n",
      "The size of 2017 file filtering with top 11 diagnosis is  (138714, 10)\n",
      "The size of 2017 file with one diagnosis as lablel is  (118500, 10)\n",
      "Working on year 2018 file\n",
      "The size of 2018 file is  (359563, 8)\n",
      "The size of 2018 file filtering with top 11 diagnosis is  (154981, 10)\n",
      "The size of 2018 file with one diagnosis as lablel is  (131568, 10)\n",
      "Working on year 2019 file\n",
      "The size of 2019 file is  (344857, 8)\n",
      "The size of 2019 file filtering with top 11 diagnosis is  (151231, 10)\n",
      "The size of 2019 file with one diagnosis as lablel is  (128217, 10)\n",
      "The size of all files together is, i.e. sum= 1293790\n"
     ]
    }
   ],
   "source": [
    "summ=0\n",
    "for i in range(1999, 2020):\n",
    "    File= pd.read_csv(\"/Users/kamakshibansal/Moorfields/Top_11_Diag.csv\")\n",
    "    File[\"Diagnosis\"]= File[\"Diagnosis\"].str.lower()\n",
    "\n",
    "    \n",
    "    print (\"Working on year {} file\".format(i))\n",
    "    FileL = pd.read_csv(\"//Users/kamakshibansal/Moorfields/Letters/Filtered_Symptoms/File_withsymptoms{}.csv\".format(i))\n",
    "    FileL=FileL.dropna()\n",
    "    print (\"The size of {} file is \".format(i), FileL.shape)\n",
    "\n",
    "    FileL[\"LetterBody\"]= FileL[\"LetterBody\"].str.lower()\n",
    "    \n",
    "    merge(FileL, File, left_on='LetterBody', right_on='Diagnosis')\n",
    "    \n",
    "    File[\"Diagnosis\"] = File.values.tolist()\n",
    "    FileL['Diagnosis'] = FileL.idx.apply(lambda x: [File[\"Diagnosis\"].get(i) for i in x])\n",
    "\n",
    "    FileL['Diagnosis2'] = FileL.Diagnosis.map(clean_keywords)\n",
    "    FileL= FileL.drop([\"Diagnosis\",\"idx\"], axis=1)\n",
    "\n",
    "    File_Symp= FileL[FileL['Diagnosis2']!=\"None\"]\n",
    "    File_Symp['count'] = File_Symp.Diagnosis2.apply(lambda x: len(x.split(',')))\n",
    "    # change the count to 2 in case you want a file with 2 diagnosis\n",
    "    File_with_1_diagnosis= File_Symp[File_Symp['count']==1]\n",
    "    \n",
    "    print (\"The size of {} file filtering with top 11 diagnosis is \".format(i), File_Symp.shape)\n",
    "    print(\"The size of {} file with one diagnosis as lablel is \".format(i), File_with_1_diagnosis.shape)\n",
    "    \n",
    "    a= len(File_with_1_diagnosis)\n",
    "#     print(a)\n",
    "    summ= summ + a\n",
    "    File_with_1_diagnosis= File_with_1_diagnosis[[\"LetterBody\", \"final_sentence\", 'Diagnosis2']]\n",
    "    File_with_1_diagnosis.to_csv(\"/Users/kamakshibansal/Moorfields/Letters/File_with_1_diagnosis/File_withDiagnosis{}.csv\".format(i))\n",
    "    \n",
    "print(\"The size of all files together is, i.e. sum=\", summ)    \n",
    "    "
   ]
  },
  {
   "cell_type": "code",
   "execution_count": 6,
   "metadata": {},
   "outputs": [
    {
     "data": {
      "text/plain": [
       "866607"
      ]
     },
     "execution_count": 6,
     "metadata": {},
     "output_type": "execute_result"
    }
   ],
   "source": [
    "66863+66433+70669+81138+ 94125+ 109094+ 118500+  131568+ 128217"
   ]
  },
  {
   "cell_type": "code",
   "execution_count": 13,
   "metadata": {},
   "outputs": [
    {
     "name": "stdout",
     "output_type": "stream",
     "text": [
      "The size of the file is:  (158765, 10)\n"
     ]
    }
   ],
   "source": [
    "print (\"The size of the file is: \", File_Symp.shape)"
   ]
  },
  {
   "cell_type": "code",
   "execution_count": 6,
   "metadata": {},
   "outputs": [
    {
     "data": {
      "text/html": [
       "<div>\n",
       "<style scoped>\n",
       "    .dataframe tbody tr th:only-of-type {\n",
       "        vertical-align: middle;\n",
       "    }\n",
       "\n",
       "    .dataframe tbody tr th {\n",
       "        vertical-align: top;\n",
       "    }\n",
       "\n",
       "    .dataframe thead th {\n",
       "        text-align: right;\n",
       "    }\n",
       "</style>\n",
       "<table border=\"1\" class=\"dataframe\">\n",
       "  <thead>\n",
       "    <tr style=\"text-align: right;\">\n",
       "      <th></th>\n",
       "      <th>LetterBody</th>\n",
       "      <th>Diagnosis2</th>\n",
       "    </tr>\n",
       "  </thead>\n",
       "  <tbody>\n",
       "    <tr>\n",
       "      <td>0</td>\n",
       "      <td>thank you for attending the glaucoma monitorin...</td>\n",
       "      <td>glaucoma</td>\n",
       "    </tr>\n",
       "    <tr>\n",
       "      <td>1</td>\n",
       "      <td>thank you for attending the glaucoma monitorin...</td>\n",
       "      <td>glaucoma</td>\n",
       "    </tr>\n",
       "    <tr>\n",
       "      <td>3</td>\n",
       "      <td>thank you for attending the glaucoma monitorin...</td>\n",
       "      <td>glaucoma</td>\n",
       "    </tr>\n",
       "    <tr>\n",
       "      <td>4</td>\n",
       "      <td>today i had the pleasure of meeting this gentl...</td>\n",
       "      <td>posterior vitreous detachment</td>\n",
       "    </tr>\n",
       "    <tr>\n",
       "      <td>5</td>\n",
       "      <td>this 59 year old man attended the accident and...</td>\n",
       "      <td>posterior vitreous detachment</td>\n",
       "    </tr>\n",
       "    <tr>\n",
       "      <td>...</td>\n",
       "      <td>...</td>\n",
       "      <td>...</td>\n",
       "    </tr>\n",
       "    <tr>\n",
       "      <td>344450</td>\n",
       "      <td>thank you very much for referring this 22 year...</td>\n",
       "      <td>blepharitis</td>\n",
       "    </tr>\n",
       "    <tr>\n",
       "      <td>344451</td>\n",
       "      <td>thank you for attending the glaucoma screening...</td>\n",
       "      <td>glaucoma</td>\n",
       "    </tr>\n",
       "    <tr>\n",
       "      <td>344454</td>\n",
       "      <td>this 83 year old man was discharged from hospi...</td>\n",
       "      <td>cataract</td>\n",
       "    </tr>\n",
       "    <tr>\n",
       "      <td>344458</td>\n",
       "      <td>this 76 year old woman was discharged from hos...</td>\n",
       "      <td>cataract</td>\n",
       "    </tr>\n",
       "    <tr>\n",
       "      <td>344463</td>\n",
       "      <td>visual acuity:\\r\\nright: 6/4-1, no improvement...</td>\n",
       "      <td>cataract</td>\n",
       "    </tr>\n",
       "  </tbody>\n",
       "</table>\n",
       "<p>135628 rows × 2 columns</p>\n",
       "</div>"
      ],
      "text/plain": [
       "                                               LetterBody  \\\n",
       "0       thank you for attending the glaucoma monitorin...   \n",
       "1       thank you for attending the glaucoma monitorin...   \n",
       "3       thank you for attending the glaucoma monitorin...   \n",
       "4       today i had the pleasure of meeting this gentl...   \n",
       "5       this 59 year old man attended the accident and...   \n",
       "...                                                   ...   \n",
       "344450  thank you very much for referring this 22 year...   \n",
       "344451  thank you for attending the glaucoma screening...   \n",
       "344454  this 83 year old man was discharged from hospi...   \n",
       "344458  this 76 year old woman was discharged from hos...   \n",
       "344463  visual acuity:\\r\\nright: 6/4-1, no improvement...   \n",
       "\n",
       "                           Diagnosis2  \n",
       "0                            glaucoma  \n",
       "1                            glaucoma  \n",
       "3                            glaucoma  \n",
       "4       posterior vitreous detachment  \n",
       "5       posterior vitreous detachment  \n",
       "...                               ...  \n",
       "344450                    blepharitis  \n",
       "344451                       glaucoma  \n",
       "344454                       cataract  \n",
       "344458                       cataract  \n",
       "344463                       cataract  \n",
       "\n",
       "[135628 rows x 2 columns]"
      ]
     },
     "execution_count": 6,
     "metadata": {},
     "output_type": "execute_result"
    }
   ],
   "source": [
    "File_with_1_diagnosis[[\"LetterBody\", 'Diagnosis2']]"
   ]
  },
  {
   "cell_type": "code",
   "execution_count": 32,
   "metadata": {},
   "outputs": [],
   "source": [
    "# print(File_Symp.shape)"
   ]
  },
  {
   "cell_type": "code",
   "execution_count": 33,
   "metadata": {},
   "outputs": [],
   "source": [
    "# File_Symp['count'] = File_Symp.Diagnosis2.apply(lambda x: len(x.split(',')))"
   ]
  },
  {
   "cell_type": "code",
   "execution_count": 34,
   "metadata": {
    "scrolled": true
   },
   "outputs": [],
   "source": [
    "# File_Symp[File_Symp['count']==1]"
   ]
  }
 ],
 "metadata": {
  "kernelspec": {
   "display_name": "Python 3",
   "language": "python",
   "name": "python3"
  },
  "language_info": {
   "codemirror_mode": {
    "name": "ipython",
    "version": 3
   },
   "file_extension": ".py",
   "mimetype": "text/x-python",
   "name": "python",
   "nbconvert_exporter": "python",
   "pygments_lexer": "ipython3",
   "version": "3.7.4"
  }
 },
 "nbformat": 4,
 "nbformat_minor": 2
}
