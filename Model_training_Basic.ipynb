{
 "cells": [
  {
   "cell_type": "code",
   "execution_count": 1,
   "metadata": {},
   "outputs": [
    {
     "name": "stderr",
     "output_type": "stream",
     "text": [
      "[nltk_data] Downloading package stopwords to\n",
      "[nltk_data]     /Users/kamakshibansal/nltk_data...\n",
      "[nltk_data]   Package stopwords is already up-to-date!\n",
      "[nltk_data] Downloading package punkt to\n",
      "[nltk_data]     /Users/kamakshibansal/nltk_data...\n",
      "[nltk_data]   Package punkt is already up-to-date!\n"
     ]
    }
   ],
   "source": [
    "import nltk\n",
    "nltk.download('stopwords')\n",
    "nltk.download('punkt')\n",
    "from nltk.tokenize import word_tokenize\n",
    "from nltk.corpus import stopwords\n",
    "import string\n",
    "import sys\n",
    "import os\n",
    "import pandas as pd\n",
    "import numpy as np"
   ]
  },
  {
   "cell_type": "code",
   "execution_count": 2,
   "metadata": {},
   "outputs": [],
   "source": [
    "import os\n",
    "import glob\n",
    "import pandas as pd\n",
    "os.chdir(\"/Users/kamakshibansal/Moorfields/Letters/File_with_1_diagnosis\")"
   ]
  },
  {
   "cell_type": "code",
   "execution_count": 3,
   "metadata": {},
   "outputs": [],
   "source": [
    "extension = 'csv'\n",
    "all_filenames = [i for i in glob.glob('*.{}'.format(extension))]"
   ]
  },
  {
   "cell_type": "code",
   "execution_count": 4,
   "metadata": {},
   "outputs": [],
   "source": [
    "#combine all files in the list\n",
    "combined_csv = pd.concat([pd.read_csv(f) for f in all_filenames ])\n",
    "#export to csv\n",
    "# combined_csv.to_csv( \"combined_csv.csv\", index=False, encoding='utf-8-sig')"
   ]
  },
  {
   "cell_type": "code",
   "execution_count": 5,
   "metadata": {},
   "outputs": [
    {
     "data": {
      "text/plain": [
       "(1293790, 4)"
      ]
     },
     "execution_count": 5,
     "metadata": {},
     "output_type": "execute_result"
    }
   ],
   "source": [
    "combined_csv.shape"
   ]
  },
  {
   "cell_type": "code",
   "execution_count": 6,
   "metadata": {},
   "outputs": [
    {
     "data": {
      "text/plain": [
       "220190.40000000002"
      ]
     },
     "execution_count": 6,
     "metadata": {},
     "output_type": "execute_result"
    }
   ],
   "source": [
    "0.8*275238"
   ]
  },
  {
   "cell_type": "code",
   "execution_count": 7,
   "metadata": {},
   "outputs": [
    {
     "data": {
      "text/html": [
       "<div>\n",
       "<style scoped>\n",
       "    .dataframe tbody tr th:only-of-type {\n",
       "        vertical-align: middle;\n",
       "    }\n",
       "\n",
       "    .dataframe tbody tr th {\n",
       "        vertical-align: top;\n",
       "    }\n",
       "\n",
       "    .dataframe thead th {\n",
       "        text-align: right;\n",
       "    }\n",
       "</style>\n",
       "<table border=\"1\" class=\"dataframe\">\n",
       "  <thead>\n",
       "    <tr style=\"text-align: right;\">\n",
       "      <th></th>\n",
       "      <th>Unnamed: 0</th>\n",
       "      <th>LetterBody</th>\n",
       "      <th>final_sentence</th>\n",
       "      <th>Diagnosis2</th>\n",
       "    </tr>\n",
       "  </thead>\n",
       "  <tbody>\n",
       "    <tr>\n",
       "      <td>0</td>\n",
       "      <td>4</td>\n",
       "      <td>urgent care clinic \\r\\n\\r\\n- diagnosis: haemor...</td>\n",
       "      <td>urgent care clinic diagnosis haemorrhagic post...</td>\n",
       "      <td>posterior vitreous detachment</td>\n",
       "    </tr>\n",
       "    <tr>\n",
       "      <td>1</td>\n",
       "      <td>8</td>\n",
       "      <td>urgent care clinic\\r\\n\\r\\n- diagnosis: healing...</td>\n",
       "      <td>urgent care clinic diagnosis corneal abrasion ...</td>\n",
       "      <td>corneal abrasion</td>\n",
       "    </tr>\n",
       "    <tr>\n",
       "      <td>2</td>\n",
       "      <td>12</td>\n",
       "      <td>urgent eye care\\r\\n\\r\\n- diagnosis: acute ante...</td>\n",
       "      <td>urgent eye care diagnosis acute anterior uveit...</td>\n",
       "      <td>acute anterior uveitis</td>\n",
       "    </tr>\n",
       "    <tr>\n",
       "      <td>3</td>\n",
       "      <td>15</td>\n",
       "      <td>attended urgent eye care clinic with her son\\r...</td>\n",
       "      <td>attended urgent eye care clinic her son diagno...</td>\n",
       "      <td>corneal abrasion</td>\n",
       "    </tr>\n",
       "    <tr>\n",
       "      <td>4</td>\n",
       "      <td>16</td>\n",
       "      <td>you have kindly reviewed this 73 year old lady...</td>\n",
       "      <td>you have kindly reviewed this 73 year old lady...</td>\n",
       "      <td>cataract</td>\n",
       "    </tr>\n",
       "  </tbody>\n",
       "</table>\n",
       "</div>"
      ],
      "text/plain": [
       "   Unnamed: 0                                         LetterBody  \\\n",
       "0           4  urgent care clinic \\r\\n\\r\\n- diagnosis: haemor...   \n",
       "1           8  urgent care clinic\\r\\n\\r\\n- diagnosis: healing...   \n",
       "2          12  urgent eye care\\r\\n\\r\\n- diagnosis: acute ante...   \n",
       "3          15  attended urgent eye care clinic with her son\\r...   \n",
       "4          16  you have kindly reviewed this 73 year old lady...   \n",
       "\n",
       "                                      final_sentence  \\\n",
       "0  urgent care clinic diagnosis haemorrhagic post...   \n",
       "1  urgent care clinic diagnosis corneal abrasion ...   \n",
       "2  urgent eye care diagnosis acute anterior uveit...   \n",
       "3  attended urgent eye care clinic her son diagno...   \n",
       "4  you have kindly reviewed this 73 year old lady...   \n",
       "\n",
       "                      Diagnosis2  \n",
       "0  posterior vitreous detachment  \n",
       "1               corneal abrasion  \n",
       "2         acute anterior uveitis  \n",
       "3               corneal abrasion  \n",
       "4                       cataract  "
      ]
     },
     "execution_count": 7,
     "metadata": {},
     "output_type": "execute_result"
    }
   ],
   "source": [
    "combined_csv.head()"
   ]
  },
  {
   "cell_type": "code",
   "execution_count": 8,
   "metadata": {},
   "outputs": [],
   "source": [
    "\n",
    "# combined_csv['split'] = np.random.randn(combined_csv.shape[0], 1)\n",
    "\n",
    "msk = np.random.rand(len(combined_csv)) <= 0.8\n",
    "\n",
    "train = combined_csv[msk]\n",
    "test = combined_csv[~msk]"
   ]
  },
  {
   "cell_type": "code",
   "execution_count": 9,
   "metadata": {},
   "outputs": [
    {
     "data": {
      "text/plain": [
       "(1034798, 4)"
      ]
     },
     "execution_count": 9,
     "metadata": {},
     "output_type": "execute_result"
    }
   ],
   "source": [
    "train.shape"
   ]
  },
  {
   "cell_type": "code",
   "execution_count": 10,
   "metadata": {},
   "outputs": [
    {
     "data": {
      "text/plain": [
       "(258992, 4)"
      ]
     },
     "execution_count": 10,
     "metadata": {},
     "output_type": "execute_result"
    }
   ],
   "source": [
    "test.shape"
   ]
  },
  {
   "cell_type": "code",
   "execution_count": 11,
   "metadata": {},
   "outputs": [
    {
     "data": {
      "text/html": [
       "<div>\n",
       "<style scoped>\n",
       "    .dataframe tbody tr th:only-of-type {\n",
       "        vertical-align: middle;\n",
       "    }\n",
       "\n",
       "    .dataframe tbody tr th {\n",
       "        vertical-align: top;\n",
       "    }\n",
       "\n",
       "    .dataframe thead th {\n",
       "        text-align: right;\n",
       "    }\n",
       "</style>\n",
       "<table border=\"1\" class=\"dataframe\">\n",
       "  <thead>\n",
       "    <tr style=\"text-align: right;\">\n",
       "      <th></th>\n",
       "      <th>Unnamed: 0</th>\n",
       "      <th>LetterBody</th>\n",
       "      <th>final_sentence</th>\n",
       "      <th>Diagnosis2</th>\n",
       "    </tr>\n",
       "  </thead>\n",
       "  <tbody>\n",
       "    <tr>\n",
       "      <td>0</td>\n",
       "      <td>4</td>\n",
       "      <td>urgent care clinic \\r\\n\\r\\n- diagnosis: haemor...</td>\n",
       "      <td>urgent care clinic diagnosis haemorrhagic post...</td>\n",
       "      <td>posterior vitreous detachment</td>\n",
       "    </tr>\n",
       "    <tr>\n",
       "      <td>1</td>\n",
       "      <td>8</td>\n",
       "      <td>urgent care clinic\\r\\n\\r\\n- diagnosis: healing...</td>\n",
       "      <td>urgent care clinic diagnosis corneal abrasion ...</td>\n",
       "      <td>corneal abrasion</td>\n",
       "    </tr>\n",
       "    <tr>\n",
       "      <td>2</td>\n",
       "      <td>12</td>\n",
       "      <td>urgent eye care\\r\\n\\r\\n- diagnosis: acute ante...</td>\n",
       "      <td>urgent eye care diagnosis acute anterior uveit...</td>\n",
       "      <td>acute anterior uveitis</td>\n",
       "    </tr>\n",
       "    <tr>\n",
       "      <td>3</td>\n",
       "      <td>15</td>\n",
       "      <td>attended urgent eye care clinic with her son\\r...</td>\n",
       "      <td>attended urgent eye care clinic her son diagno...</td>\n",
       "      <td>corneal abrasion</td>\n",
       "    </tr>\n",
       "    <tr>\n",
       "      <td>4</td>\n",
       "      <td>16</td>\n",
       "      <td>you have kindly reviewed this 73 year old lady...</td>\n",
       "      <td>you have kindly reviewed this 73 year old lady...</td>\n",
       "      <td>cataract</td>\n",
       "    </tr>\n",
       "  </tbody>\n",
       "</table>\n",
       "</div>"
      ],
      "text/plain": [
       "   Unnamed: 0                                         LetterBody  \\\n",
       "0           4  urgent care clinic \\r\\n\\r\\n- diagnosis: haemor...   \n",
       "1           8  urgent care clinic\\r\\n\\r\\n- diagnosis: healing...   \n",
       "2          12  urgent eye care\\r\\n\\r\\n- diagnosis: acute ante...   \n",
       "3          15  attended urgent eye care clinic with her son\\r...   \n",
       "4          16  you have kindly reviewed this 73 year old lady...   \n",
       "\n",
       "                                      final_sentence  \\\n",
       "0  urgent care clinic diagnosis haemorrhagic post...   \n",
       "1  urgent care clinic diagnosis corneal abrasion ...   \n",
       "2  urgent eye care diagnosis acute anterior uveit...   \n",
       "3  attended urgent eye care clinic her son diagno...   \n",
       "4  you have kindly reviewed this 73 year old lady...   \n",
       "\n",
       "                      Diagnosis2  \n",
       "0  posterior vitreous detachment  \n",
       "1               corneal abrasion  \n",
       "2         acute anterior uveitis  \n",
       "3               corneal abrasion  \n",
       "4                       cataract  "
      ]
     },
     "execution_count": 11,
     "metadata": {},
     "output_type": "execute_result"
    }
   ],
   "source": [
    "train.head()"
   ]
  },
  {
   "cell_type": "code",
   "execution_count": 12,
   "metadata": {},
   "outputs": [
    {
     "data": {
      "text/html": [
       "<div>\n",
       "<style scoped>\n",
       "    .dataframe tbody tr th:only-of-type {\n",
       "        vertical-align: middle;\n",
       "    }\n",
       "\n",
       "    .dataframe tbody tr th {\n",
       "        vertical-align: top;\n",
       "    }\n",
       "\n",
       "    .dataframe thead th {\n",
       "        text-align: right;\n",
       "    }\n",
       "</style>\n",
       "<table border=\"1\" class=\"dataframe\">\n",
       "  <thead>\n",
       "    <tr style=\"text-align: right;\">\n",
       "      <th></th>\n",
       "      <th>Unnamed: 0</th>\n",
       "      <th>LetterBody</th>\n",
       "      <th>final_sentence</th>\n",
       "      <th>Diagnosis2</th>\n",
       "    </tr>\n",
       "  </thead>\n",
       "  <tbody>\n",
       "    <tr>\n",
       "      <td>8</td>\n",
       "      <td>31</td>\n",
       "      <td>this patient attended for a routine follow-up ...</td>\n",
       "      <td>this patient attended for routine follow-up ap...</td>\n",
       "      <td>glaucoma</td>\n",
       "    </tr>\n",
       "    <tr>\n",
       "      <td>10</td>\n",
       "      <td>36</td>\n",
       "      <td>- diagnosis: bilateral open-angle glaucoma, st...</td>\n",
       "      <td>diagnosis bilateral open-angle glaucoma steroi...</td>\n",
       "      <td>glaucoma</td>\n",
       "    </tr>\n",
       "    <tr>\n",
       "      <td>20</td>\n",
       "      <td>56</td>\n",
       "      <td>this 76 year old man attended the clinic for a...</td>\n",
       "      <td>this 76 year old man attended clinic for routi...</td>\n",
       "      <td>cataract</td>\n",
       "    </tr>\n",
       "    <tr>\n",
       "      <td>24</td>\n",
       "      <td>69</td>\n",
       "      <td>this chap presented to a&amp;e with 6 months histo...</td>\n",
       "      <td>this presented to a&amp;e 6 months history waterin...</td>\n",
       "      <td>conjunctivitis</td>\n",
       "    </tr>\n",
       "    <tr>\n",
       "      <td>27</td>\n",
       "      <td>72</td>\n",
       "      <td>this 80 year old attended the  glaucoma clinic...</td>\n",
       "      <td>this 80 year old attended glaucoma clinic for ...</td>\n",
       "      <td>glaucoma</td>\n",
       "    </tr>\n",
       "  </tbody>\n",
       "</table>\n",
       "</div>"
      ],
      "text/plain": [
       "    Unnamed: 0                                         LetterBody  \\\n",
       "8           31  this patient attended for a routine follow-up ...   \n",
       "10          36  - diagnosis: bilateral open-angle glaucoma, st...   \n",
       "20          56  this 76 year old man attended the clinic for a...   \n",
       "24          69  this chap presented to a&e with 6 months histo...   \n",
       "27          72  this 80 year old attended the  glaucoma clinic...   \n",
       "\n",
       "                                       final_sentence      Diagnosis2  \n",
       "8   this patient attended for routine follow-up ap...        glaucoma  \n",
       "10  diagnosis bilateral open-angle glaucoma steroi...        glaucoma  \n",
       "20  this 76 year old man attended clinic for routi...        cataract  \n",
       "24  this presented to a&e 6 months history waterin...  conjunctivitis  \n",
       "27  this 80 year old attended glaucoma clinic for ...        glaucoma  "
      ]
     },
     "execution_count": 12,
     "metadata": {},
     "output_type": "execute_result"
    }
   ],
   "source": [
    "test.head()"
   ]
  },
  {
   "cell_type": "code",
   "execution_count": 13,
   "metadata": {},
   "outputs": [],
   "source": [
    "import re, nltk\n",
    "from sklearn.feature_extraction.text import CountVectorizer        \n",
    "from nltk.stem.porter import PorterStemmer\n",
    "\n",
    "\n",
    "stemmer = PorterStemmer()\n",
    "def stem_tokens(tokens, stemmer):\n",
    "    stemmed = []\n",
    "    for item in tokens:\n",
    "        stemmed.append(stemmer.stem(item))\n",
    "    return stemmed\n",
    "\n",
    "def tokenize(text):\n",
    "    # remove non letters\n",
    "    text = re.sub(\"[^a-zA-Z]\", \" \", text)\n",
    "    # tokenize\n",
    "    tokens = nltk.word_tokenize(text)\n",
    "    # stem\n",
    "    stems = stem_tokens(tokens, stemmer)\n",
    "    return stems\n",
    "\n",
    "vectorizer = CountVectorizer(\n",
    "    analyzer = 'word',\n",
    "    tokenizer = tokenize,\n",
    "    lowercase = True,\n",
    "    stop_words = 'english',\n",
    "    max_features = 150\n",
    ")"
   ]
  },
  {
   "cell_type": "code",
   "execution_count": 14,
   "metadata": {},
   "outputs": [
    {
     "name": "stderr",
     "output_type": "stream",
     "text": [
      "/Users/kamakshibansal/opt/anaconda3/lib/python3.7/site-packages/sklearn/feature_extraction/text.py:300: UserWarning: Your stop_words may be inconsistent with your preprocessing. Tokenizing the stop words generated tokens ['abov', 'afterward', 'alon', 'alreadi', 'alway', 'ani', 'anoth', 'anyon', 'anyth', 'anywher', 'becam', 'becaus', 'becom', 'befor', 'besid', 'cri', 'describ', 'dure', 'els', 'elsewher', 'empti', 'everi', 'everyon', 'everyth', 'everywher', 'fifti', 'formerli', 'forti', 'ha', 'henc', 'hereaft', 'herebi', 'hi', 'howev', 'hundr', 'inde', 'latterli', 'mani', 'meanwhil', 'moreov', 'mostli', 'nobodi', 'noon', 'noth', 'nowher', 'onc', 'onli', 'otherwis', 'ourselv', 'perhap', 'pleas', 'seriou', 'sever', 'sinc', 'sincer', 'sixti', 'someon', 'someth', 'sometim', 'somewher', 'themselv', 'thenc', 'thereaft', 'therebi', 'therefor', 'thi', 'thu', 'togeth', 'twelv', 'twenti', 'veri', 'wa', 'whatev', 'whenc', 'whenev', 'wherea', 'whereaft', 'wherebi', 'wherev', 'whi', 'yourselv'] not in stop_words.\n",
      "  'stop_words.' % sorted(inconsistent))\n"
     ]
    }
   ],
   "source": [
    "corpus_data_features = vectorizer.fit_transform(train.LetterBody.tolist() + test.LetterBody.tolist())"
   ]
  },
  {
   "cell_type": "code",
   "execution_count": 15,
   "metadata": {},
   "outputs": [
    {
     "data": {
      "text/plain": [
       "(1293790, 150)"
      ]
     },
     "execution_count": 15,
     "metadata": {},
     "output_type": "execute_result"
    }
   ],
   "source": [
    "corpus_data_features_nd = corpus_data_features.toarray()\n",
    "corpus_data_features_nd.shape"
   ]
  },
  {
   "cell_type": "code",
   "execution_count": 16,
   "metadata": {},
   "outputs": [
    {
     "name": "stdout",
     "output_type": "stream",
     "text": [
      "['acuiti', 'advis', 'angl', 'ani', 'ansi', 'ansicpg', 'anterior', 'appoint', 'arial', 'arrang', 'attend', 'b', 'bd', 'benefit', 'bilater', 'blood', 'blue', 'care', 'cataract', 'cc', 'cf', 'chang', 'clinic', 'colortbl', 'consult', 'continu', 'control', 'correspond', 'current', 'day', 'dear', 'deff', 'deflang', 'diabet', 'diagnosi', 'disc', 'discuss', 'dob', 'dr', 'drop', 'e', 'evid', 'examin', 'eye', 'f', 'fcharset', 'fellow', 'field', 'fnil', 'follow', 'fonttbl', 'fprq', 'frcophth', 'fs', 'fswiss', 'g', 'glass', 'glaucoma', 'gp', 'grate', 'green', 'ha', 'hi', 'hospit', 'improv', 'intraocular', 'iol', 'iop', 'l', 'ladi', 'lang', 'laser', 'le', 'left', 'list', 'london', 'macular', 'man', 'manag', 'medic', 'mg', 'mild', 'miss', 'mmhg', 'month', 'moorfield', 'mr', 'ms', 'n', 'nh', 'noct', 'normal', 'nsc', 'number', 'ocular', 'od', 'oedema', 'old', 'oper', 'optic', 'origin', 'par', 'pard', 'patient', 'pinhol', 'pleas', 'prescrib', 'preserv', 'pressur', 'primari', 'r', 'recipi', 'red', 'refer', 'requir', 'retin', 'retina', 'retinopathi', 'review', 'right', 'risk', 'road', 'routin', 'rtf', 's', 'seen', 'servic', 'signific', 'sincer', 'specialist', 'stabl', 'surgeri', 'tab', 'thank', 'thi', 'time', 'today', 'treatment', 'uc', 'unaid', 'use', 'veri', 'viewkind', 'vision', 'visit', 'visual', 'wa', 'week', 'woman', 'year']\n"
     ]
    }
   ],
   "source": [
    "vocab = vectorizer.get_feature_names()\n",
    "print (vocab)"
   ]
  },
  {
   "cell_type": "code",
   "execution_count": 17,
   "metadata": {},
   "outputs": [],
   "source": [
    "from sklearn.model_selection import train_test_split\n",
    "\n",
    "# remember that corpus_data_features_nd contains all of our original train and test data, so we need to exclude\n",
    "# the unlabeled test entries\n",
    "X_train, X_test, y_train, y_test  = train_test_split(\n",
    "    corpus_data_features_nd[0:len(train)], \n",
    "    train.Diagnosis2,\n",
    "    train_size=0.85, \n",
    "    random_state=1234)"
   ]
  },
  {
   "cell_type": "code",
   "execution_count": 18,
   "metadata": {},
   "outputs": [
    {
     "name": "stderr",
     "output_type": "stream",
     "text": [
      "/Users/kamakshibansal/opt/anaconda3/lib/python3.7/site-packages/sklearn/linear_model/logistic.py:432: FutureWarning: Default solver will be changed to 'lbfgs' in 0.22. Specify a solver to silence this warning.\n",
      "  FutureWarning)\n",
      "/Users/kamakshibansal/opt/anaconda3/lib/python3.7/site-packages/sklearn/linear_model/logistic.py:469: FutureWarning: Default multi_class will be changed to 'auto' in 0.22. Specify the multi_class option to silence this warning.\n",
      "  \"this warning.\", FutureWarning)\n",
      "/Users/kamakshibansal/opt/anaconda3/lib/python3.7/site-packages/sklearn/svm/base.py:929: ConvergenceWarning: Liblinear failed to converge, increase the number of iterations.\n",
      "  \"the number of iterations.\", ConvergenceWarning)\n"
     ]
    }
   ],
   "source": [
    "from sklearn.linear_model import LogisticRegression\n",
    "\n",
    "log_model = LogisticRegression()\n",
    "log_model = log_model.fit(X=X_train, y=y_train)"
   ]
  },
  {
   "cell_type": "code",
   "execution_count": 19,
   "metadata": {},
   "outputs": [],
   "source": [
    "y_pred = log_model.predict(X_test)"
   ]
  },
  {
   "cell_type": "code",
   "execution_count": 20,
   "metadata": {},
   "outputs": [
    {
     "data": {
      "text/plain": [
       "array(['cataract', 'glaucoma', 'glaucoma', ..., 'glaucoma', 'cataract',\n",
       "       'cataract'], dtype=object)"
      ]
     },
     "execution_count": 20,
     "metadata": {},
     "output_type": "execute_result"
    }
   ],
   "source": [
    "y_pred"
   ]
  },
  {
   "cell_type": "code",
   "execution_count": 21,
   "metadata": {},
   "outputs": [
    {
     "data": {
      "text/plain": [
       "0.9432547352145342"
      ]
     },
     "execution_count": 21,
     "metadata": {},
     "output_type": "execute_result"
    }
   ],
   "source": [
    "# from sklearn.model_selection import cross_validate\n",
    "# from sklearn import metrics, cross_validation\n",
    "from sklearn.metrics import accuracy_score\n",
    "import sklearn.metrics as metrics\n",
    "\n",
    "metrics.accuracy_score(y_test, y_pred)"
   ]
  },
  {
   "cell_type": "code",
   "execution_count": null,
   "metadata": {},
   "outputs": [],
   "source": []
  }
 ],
 "metadata": {
  "kernelspec": {
   "display_name": "Python 3",
   "language": "python",
   "name": "python3"
  },
  "language_info": {
   "codemirror_mode": {
    "name": "ipython",
    "version": 3
   },
   "file_extension": ".py",
   "mimetype": "text/x-python",
   "name": "python",
   "nbconvert_exporter": "python",
   "pygments_lexer": "ipython3",
   "version": "3.7.4"
  }
 },
 "nbformat": 4,
 "nbformat_minor": 2
}
